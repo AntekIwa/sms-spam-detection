{
 "cells": [
  {
   "cell_type": "markdown",
   "id": "5a375eea",
   "metadata": {},
   "source": [
    "# Project: SMS Spam Detection Using Logistic Regression\n",
    "\n",
    "**Author:** Antoni Iwanowski  \n",
    "**Date:** April 2025\n",
    "\n",
    "---\n",
    "\n",
    "### Objective\n",
    "The goal of this project is to build a machine learning model that classifies SMS messages as either **spam** or **ham** (not spam).  \n",
    "We implement two versions:\n",
    "- A standard model using scikit-learn's Logistic Regression\n",
    "- A custom Logistic Regression model built from scratch using NumPy\n",
    "\n",
    "---\n",
    "\n",
    "### Dataset\n",
    "- Source: [UCI Machine Learning Repository - SMS Spam Collection Dataset](https://archive.ics.uci.edu/ml/datasets/SMS+Spam+Collection)\n",
    "- Description: 5,572 labeled SMS messages, classified as 'ham' or 'spam'.\n",
    "\n",
    "---\n",
    "\n",
    "### Steps\n",
    "1. Data loading and preprocessing\n",
    "2. Feature extraction (Bag-of-Words)\n",
    "3. Training and evaluating scikit-learn Logistic Regression\n",
    "4. Implementing a custom Logistic Regression model\n",
    "5. Comparing and analyzing the results\n",
    "\n",
    "---\n",
    "\n",
    "### Tools and Libraries\n",
    "- Python 3.8+\n",
    "- NumPy\n",
    "- Pandas\n",
    "- Matplotlib\n",
    "- scikit-learn"
   ]
  },
  {
   "cell_type": "markdown",
   "id": "3c6987b6",
   "metadata": {},
   "source": [
    "Imports:"
   ]
  },
  {
   "cell_type": "code",
   "execution_count": 132,
   "id": "c0c14bd9",
   "metadata": {},
   "outputs": [],
   "source": [
    "import pandas as pd\n",
    "import numpy as np\n",
    "from sklearn.model_selection import train_test_split\n",
    "from sklearn.feature_extraction.text import CountVectorizer\n",
    "from sklearn.linear_model import LogisticRegression\n",
    "from sklearn.metrics import precision_score, recall_score, f1_score, accuracy_score\n",
    "import matplotlib.pyplot as plt\n",
    "import copy\n",
    "import math"
   ]
  },
  {
   "cell_type": "markdown",
   "id": "ef13e6dd",
   "metadata": {},
   "source": [
    "1. Data Loading:"
   ]
  },
  {
   "cell_type": "code",
   "execution_count": 11,
   "id": "20d93aba",
   "metadata": {},
   "outputs": [
    {
     "name": "stdout",
     "output_type": "stream",
     "text": [
      "  label                                               text\n",
      "0   ham  Go until jurong point, crazy.. Available only ...\n",
      "1   ham                      Ok lar... Joking wif u oni...\n",
      "2  spam  Free entry in 2 a wkly comp to win FA Cup fina...\n",
      "3   ham  U dun say so early hor... U c already then say...\n",
      "4   ham  Nah I don't think he goes to usf, he lives aro...\n",
      "   label                                               text\n",
      "0      0  Go until jurong point, crazy.. Available only ...\n",
      "1      0                      Ok lar... Joking wif u oni...\n",
      "2      1  Free entry in 2 a wkly comp to win FA Cup fina...\n",
      "3      0  U dun say so early hor... U c already then say...\n",
      "4      0  Nah I don't think he goes to usf, he lives aro...\n",
      "0\n"
     ]
    }
   ],
   "source": [
    "data = pd.read_csv('data', sep='\\t', header=None, names=['label', 'text'])\n",
    "print(data.head())\n",
    "data['label'] = data['label'].map({'ham': 0, 'spam': 1})\n",
    "print(data.head())\n",
    "X = data['text']\n",
    "y = data['label']\n",
    "X_train, X_test, y_train, y_test = train_test_split(X, y, test_size=0.2, random_state=42)"
   ]
  },
  {
   "cell_type": "markdown",
   "id": "e72baa9c",
   "metadata": {},
   "source": [
    "2. Data Preprocessing (Bag of Words):"
   ]
  },
  {
   "cell_type": "code",
   "execution_count": 114,
   "id": "9bcd68a4",
   "metadata": {},
   "outputs": [],
   "source": [
    "vectorizer = CountVectorizer(max_features = 1000)\n",
    "X_train_vect = vectorizer.fit_transform(X_train)\n",
    "X_test_vect = vectorizer.transform(X_test)"
   ]
  },
  {
   "cell_type": "markdown",
   "id": "ab77c030",
   "metadata": {},
   "source": [
    " 3. Training a Model (Scikit-learn):"
   ]
  },
  {
   "cell_type": "code",
   "execution_count": 168,
   "id": "1676200b",
   "metadata": {},
   "outputs": [
    {
     "name": "stdout",
     "output_type": "stream",
     "text": [
      "              precision    recall  f1-score   support\n",
      "\n",
      "           0       0.99      1.00      0.99       966\n",
      "           1       0.99      0.93      0.96       149\n",
      "\n",
      "    accuracy                           0.99      1115\n",
      "   macro avg       0.99      0.97      0.98      1115\n",
      "weighted avg       0.99      0.99      0.99      1115\n",
      "\n"
     ]
    },
    {
     "data": {
      "image/png": "[encoded data removed]",
      "text/plain": [
       "<Figure size 432x288 with 2 Axes>"
      ]
     },
     "metadata": {
      "needs_background": "light"
     },
     "output_type": "display_data"
    }
   ],
   "source": [
    "model = LogisticRegression()\n",
    "model.fit(X_train_vect, y_train)\n",
    "y_pred = model.predict(X_test_vect)\n",
    "print(classification_report(y_test, y_pred))\n",
    "ConfusionMatrixDisplay.from_estimator(model, X_test_vect, y_test)\n",
    "plt.show()"
   ]
  },
  {
   "cell_type": "markdown",
   "id": "bc9bd100",
   "metadata": {},
   "source": [
    "4. Custom Logistic Regression Implementation:"
   ]
  },
  {
   "cell_type": "code",
   "execution_count": 165,
   "id": "0d245b64",
   "metadata": {},
   "outputs": [],
   "source": [
    "def sigmoid(z):\n",
    "    return 1 / (1 + np.exp(-z))\n",
    "\n",
    "def compute_cost(X, y, w, b):\n",
    "    m = X.shape[0]\n",
    "    f_wb = sigmoid(np.dot(X, w) + b)\n",
    "    cost = (-1 / m) * np.sum(y * np.log(f_wb + 1e-15) + (1 - y) * np.log(1 - f_wb + 1e-15))\n",
    "    return cost\n",
    "\n",
    "def predict(X, w, b):\n",
    "    f_wb = sigmoid(np.dot(X, w) + b)\n",
    "    preds = np.where(f_wb >= 0.5, 1, 0)\n",
    "    return preds\n",
    "\n",
    "def compute_gradient(X, y, w, b):\n",
    "    m = X.shape[0]\n",
    "    f_wb = sigmoid(np.dot(X, w) + b)\n",
    "    error = f_wb - y\n",
    "    dj_dw = (1 / m) * np.dot(X.T, error)\n",
    "    dj_db = (1 / m) * np.sum(error)\n",
    "    return dj_db, dj_dw\n",
    "\n",
    "def gradient_descent(X, y, w_in, b_in, alpha, iterations, X_val, y_val):\n",
    "    J_history = []\n",
    "    precision_history = []\n",
    "    recall_history = []\n",
    "    f1_history = []\n",
    "    accuracy_history = []\n",
    "\n",
    "    w = w_in.copy()\n",
    "    b = b_in\n",
    "\n",
    "    for i in range(iterations):\n",
    "        dj_db, dj_dw = compute_gradient(X, y, w, b)\n",
    "        w -= alpha * dj_dw\n",
    "        b -= alpha * dj_db\n",
    "\n",
    "        if i % (iterations // 10) == 0 or i == iterations-1:\n",
    "            \n",
    "            cost = compute_cost(X, y, w, b)\n",
    "            print(i, \":\", cost)\n",
    "            y_pred_val = predict(X_val, w, b)\n",
    "            precision = precision_score(y_val, y_pred_val, zero_division=0)\n",
    "            recall = recall_score(y_val, y_pred_val, zero_division=0)\n",
    "            f1 = f1_score(y_val, y_pred_val, zero_division=0)\n",
    "            accuracy = accuracy_score(y_val, y_pred_val)\n",
    "            J_history.append(cost)\n",
    "            precision_history.append(precision)\n",
    "            recall_history.append(recall)\n",
    "            f1_history.append(f1)\n",
    "            accuracy_history.append(accuracy)\n",
    "\n",
    "    return w, b, J_history, precision_history, recall_history, f1_history, accuracy_history"
   ]
  },
  {
   "cell_type": "code",
   "execution_count": 166,
   "id": "83266f64",
   "metadata": {},
   "outputs": [
    {
     "name": "stdout",
     "output_type": "stream",
     "text": [
      "0 : 0.6700029306057862\n",
      "1000 : 0.11079990944667899\n",
      "2000 : 0.084164617548832\n",
      "3000 : 0.07203477670658291\n",
      "4000 : 0.06445707022600643\n",
      "5000 : 0.05902424575956114\n",
      "6000 : 0.05481842764214135\n",
      "7000 : 0.05140144255283799\n",
      "8000 : 0.048533165945322976\n",
      "9000 : 0.0460688557311118\n",
      "9999 : 0.04391692132347812\n"
     ]
    }
   ],
   "source": [
    "# Initialize parameters\n",
    "np.random.seed(1)\n",
    "initial_w = np.zeros(X_train_array.shape[1])\n",
    "initial_b = 0\n",
    "alpha = 0.1\n",
    "iterations = 10000\n",
    "\n",
    "# Train the model\n",
    "w, b, J_history, precision_history, recall_history, f1_history, accuracy_history = gradient_descent(\n",
    "    X_train_array, y_train.to_numpy(), initial_w, initial_b, alpha, iterations, X_test_array, y_test.to_numpy()\n",
    ")"
   ]
  },
  {
   "cell_type": "code",
   "execution_count": 167,
   "id": "4b48d07b",
   "metadata": {},
   "outputs": [
    {
     "data": {
      "image/png": "[encoded data removed]",
      "text/plain": [
       "<Figure size 576x360 with 1 Axes>"
      ]
     },
     "metadata": {
      "needs_background": "light"
     },
     "output_type": "display_data"
    },
    {
     "data": {
      "image/png": "[encoded data removed]",
      "text/plain": [
       "<Figure size 1008x576 with 1 Axes>"
      ]
     },
     "metadata": {
      "needs_background": "light"
     },
     "output_type": "display_data"
    },
    {
     "name": "stdout",
     "output_type": "stream",
     "text": [
      "Custom Model Evaluation:\n",
      "\n",
      "              precision    recall  f1-score   support\n",
      "\n",
      "           0       0.99      1.00      0.99       966\n",
      "           1       0.98      0.91      0.94       149\n",
      "\n",
      "    accuracy                           0.99      1115\n",
      "   macro avg       0.98      0.95      0.97      1115\n",
      "weighted avg       0.99      0.99      0.99      1115\n",
      "\n"
     ]
    },
    {
     "data": {
      "image/png": "[encoded data removed]",
      "text/plain": [
       "<Figure size 432x288 with 2 Axes>"
      ]
     },
     "metadata": {
      "needs_background": "light"
     },
     "output_type": "display_data"
    }
   ],
   "source": [
    "# Plot cost over iterations\n",
    "plt.figure(figsize=(8,5))\n",
    "plt.plot(np.linspace(0, iterations, len(J_history)), J_history)\n",
    "plt.xlabel('Iteration')\n",
    "plt.ylabel('Loss (Cost)')\n",
    "plt.title('Cost Function Decrease During Training')\n",
    "plt.grid(True)\n",
    "plt.show()\n",
    "\n",
    "# Plot precision, recall, f1, accuracy over iterations\n",
    "plt.figure(figsize=(14,8))\n",
    "plt.plot(np.linspace(0, iterations, len(precision_history)), precision_history, label='Precision')\n",
    "plt.plot(np.linspace(0, iterations, len(recall_history)), recall_history, label='Recall')\n",
    "plt.plot(np.linspace(0, iterations, len(f1_history)), f1_history, label='F1 Score')\n",
    "plt.plot(np.linspace(0, iterations, len(accuracy_history)), accuracy_history, label='Accuracy')\n",
    "plt.xlabel('Iteration')\n",
    "plt.ylabel('Metric Value')\n",
    "plt.title('Metric Performance During Training')\n",
    "plt.legend()\n",
    "plt.grid(True)\n",
    "plt.show()\n",
    "\n",
    "# Evaluate final custom model on test set\n",
    "y_pred_custom = predict(X_test_array, w, b)\n",
    "print(\"Custom Model Evaluation:\\n\")\n",
    "print(classification_report(y_test, y_pred_custom))\n",
    "\n",
    "cm_custom = confusion_matrix(y_test, y_pred_custom)\n",
    "ConfusionMatrixDisplay(confusion_matrix=cm_custom).plot(cmap='Blues')\n",
    "plt.title('Confusion Matrix (Custom Model)')\n",
    "plt.show()\n"
   ]
  },
  {
   "cell_type": "markdown",
   "id": "f286a5a7",
   "metadata": {},
   "source": [
    "## Final Conclusions\n",
    "\n",
    "### Custom Logistic Regression Performance\n",
    "- **Accuracy**: 99% on the test set.\n",
    "- **Precision (spam detection)**: 98% — very few false positives.\n",
    "- **Recall (spam detection)**: 91% — most spam messages are successfully detected.\n",
    "- **F1-Score**: 94% — high balance between precision and recall.\n",
    "\n",
    "### Comparison to scikit-learn\n",
    "- The custom Logistic Regression model achieves performance almost identical to scikit-learn's `LogisticRegression`.\n",
    "- The loss function steadily decreased during training, confirming correct gradient descent optimization.\n",
    "\n",
    "### Strengths\n",
    "- High generalization ability — model performs extremely well on unseen data.\n",
    "- Excellent spam detection capability with minimal false alarms.\n",
    "\n",
    "### Final Thoughts\n",
    "This project successfully demonstrates that Logistic Regression, even implemented manually, can achieve excellent results on practical binary classification tasks such as spam detection.  \n",
    "Building the model from scratch deepened understanding of cost functions, gradient descent, and the impact of feature engineering.\n"
   ]
  },
  {
   "cell_type": "code",
   "execution_count": null,
   "id": "cc42d130",
   "metadata": {},
   "outputs": [],
   "source": []
  }
 ],
 "metadata": {
  "kernelspec": {
   "display_name": "Python 3 (ipykernel)",
   "language": "python",
   "name": "python3"
  },
  "language_info": {
   "codemirror_mode": {
    "name": "ipython",
    "version": 3
   },
   "file_extension": ".py",
   "mimetype": "text/x-python",
   "name": "python",
   "nbconvert_exporter": "python",
   "pygments_lexer": "ipython3",
   "version": "3.9.12"
  }
 },
 "nbformat": 4,
 "nbformat_minor": 5
}
